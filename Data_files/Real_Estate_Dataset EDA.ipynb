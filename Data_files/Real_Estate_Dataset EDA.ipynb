{
 "cells": [
  {
   "cell_type": "code",
   "execution_count": 5,
   "metadata": {},
   "outputs": [],
   "source": [
    "import pandas as pd\n",
    "import seaborn as sns\n",
    "import matplotlib.pyplot as plt\n",
    "import re\n",
    "import statsmodels.api as sm"
   ]
  },
  {
   "cell_type": "code",
   "execution_count": 6,
   "metadata": {},
   "outputs": [],
   "source": [
    "# load testListing into pandas and removing columns that expected, other formalities \n",
    "testlisting_file_path = \"C:/Users/kasun/Desktop/Data Analytics/Final Project/Original Documents/testListings.csv\"\n",
    "\n",
    "# Specify the dtype for columns that have mixed types (e.g., column 0 and 4)\n",
    "df_testlisting = pd.read_csv(testlisting_file_path,on_bad_lines='skip')"
   ]
  },
  {
   "cell_type": "code",
   "execution_count": 7,
   "metadata": {},
   "outputs": [],
   "source": [
    "# load trainListing into pandas and removing columns that expected, other formalities \n",
    "trainlisting_file_path = \"C:/Users/kasun/Desktop/Data Analytics/Final Project/Original Documents/trainListings.csv\"\n",
    "df_trainlisting = pd.read_csv(trainlisting_file_path, on_bad_lines='skip', dtype={0: str, 4: str}, low_memory=False)\n"
   ]
  },
  {
   "cell_type": "code",
   "execution_count": 8,
   "metadata": {},
   "outputs": [],
   "source": [
    "# join two tables because both df_testlisting and df_trainlisting have same columns\n",
    "df_concat_test_train_listing = pd.concat([df_testlisting, df_trainlisting], ignore_index=True)"
   ]
  },
  {
   "cell_type": "code",
   "execution_count": 9,
   "metadata": {},
   "outputs": [
    {
     "name": "stdout",
     "output_type": "stream",
     "text": [
      "id                 0\n",
      "sourceId           2\n",
      "locationId         9\n",
      "typeId             2\n",
      "price           7878\n",
      "rooms          94317\n",
      "bedrooms       16216\n",
      "bathrooms      18698\n",
      "totalArea      33274\n",
      "livingArea     65926\n",
      "plotArea       49033\n",
      "terraceArea    83415\n",
      "title           5483\n",
      "description     3560\n",
      "features       51664\n",
      "latitude       84882\n",
      "longitude      85171\n",
      "thumbnails         4\n",
      "dtype: int64\n"
     ]
    }
   ],
   "source": [
    "#calculate the null values for each column\n",
    "print(df_concat_test_train_listing.isnull().sum())"
   ]
  },
  {
   "cell_type": "code",
   "execution_count": 10,
   "metadata": {},
   "outputs": [],
   "source": [
    "# remove unwated and unclear columns from the dataset and save as a new excel called, 'df_concat_remove_columns_listing'\n",
    "columns_to_remove = ['title','description','features','latitude','longitude','thumbnails']\n",
    "File1_concat_remove_columns = df_concat_test_train_listing.drop(columns=columns_to_remove)\n",
    "\n",
    "File1_concat_remove_columns.to_excel('File1_concat_remove_columns_listing.xlsx', index=False)"
   ]
  },
  {
   "cell_type": "code",
   "execution_count": 11,
   "metadata": {},
   "outputs": [
    {
     "data": {
      "text/html": [
       "<div>\n",
       "<style scoped>\n",
       "    .dataframe tbody tr th:only-of-type {\n",
       "        vertical-align: middle;\n",
       "    }\n",
       "\n",
       "    .dataframe tbody tr th {\n",
       "        vertical-align: top;\n",
       "    }\n",
       "\n",
       "    .dataframe thead th {\n",
       "        text-align: right;\n",
       "    }\n",
       "</style>\n",
       "<table border=\"1\" class=\"dataframe\">\n",
       "  <thead>\n",
       "    <tr style=\"text-align: right;\">\n",
       "      <th></th>\n",
       "      <th>sourceId</th>\n",
       "      <th>locationId</th>\n",
       "      <th>typeId</th>\n",
       "      <th>rooms</th>\n",
       "      <th>bedrooms</th>\n",
       "      <th>bathrooms</th>\n",
       "      <th>totalArea</th>\n",
       "      <th>livingArea</th>\n",
       "      <th>plotArea</th>\n",
       "      <th>terraceArea</th>\n",
       "    </tr>\n",
       "  </thead>\n",
       "  <tbody>\n",
       "    <tr>\n",
       "      <th>count</th>\n",
       "      <td>105040.000000</td>\n",
       "      <td>105033.000000</td>\n",
       "      <td>105040.000000</td>\n",
       "      <td>10725.000000</td>\n",
       "      <td>8.882600e+04</td>\n",
       "      <td>86344.000000</td>\n",
       "      <td>71768.000000</td>\n",
       "      <td>39116.000000</td>\n",
       "      <td>5.600900e+04</td>\n",
       "      <td>2.162700e+04</td>\n",
       "    </tr>\n",
       "    <tr>\n",
       "      <th>mean</th>\n",
       "      <td>136.424629</td>\n",
       "      <td>161.220520</td>\n",
       "      <td>6.102538</td>\n",
       "      <td>4.699860</td>\n",
       "      <td>8.017582e+01</td>\n",
       "      <td>3.071933</td>\n",
       "      <td>351.547305</td>\n",
       "      <td>350.969450</td>\n",
       "      <td>2.611961e+04</td>\n",
       "      <td>2.126085e+02</td>\n",
       "    </tr>\n",
       "    <tr>\n",
       "      <th>std</th>\n",
       "      <td>129.934344</td>\n",
       "      <td>169.511228</td>\n",
       "      <td>3.960919</td>\n",
       "      <td>3.704399</td>\n",
       "      <td>2.271971e+04</td>\n",
       "      <td>7.286681</td>\n",
       "      <td>2891.706262</td>\n",
       "      <td>5455.160421</td>\n",
       "      <td>5.039973e+05</td>\n",
       "      <td>1.605198e+04</td>\n",
       "    </tr>\n",
       "    <tr>\n",
       "      <th>min</th>\n",
       "      <td>1.000000</td>\n",
       "      <td>1.000000</td>\n",
       "      <td>1.000000</td>\n",
       "      <td>1.000000</td>\n",
       "      <td>1.000000e+00</td>\n",
       "      <td>1.000000</td>\n",
       "      <td>8.000000</td>\n",
       "      <td>1.000000</td>\n",
       "      <td>6.000000e+00</td>\n",
       "      <td>1.000000e+00</td>\n",
       "    </tr>\n",
       "    <tr>\n",
       "      <th>25%</th>\n",
       "      <td>14.000000</td>\n",
       "      <td>30.000000</td>\n",
       "      <td>1.000000</td>\n",
       "      <td>3.000000</td>\n",
       "      <td>3.000000e+00</td>\n",
       "      <td>2.000000</td>\n",
       "      <td>120.000000</td>\n",
       "      <td>110.000000</td>\n",
       "      <td>6.800000e+02</td>\n",
       "      <td>2.000000e+01</td>\n",
       "    </tr>\n",
       "    <tr>\n",
       "      <th>50%</th>\n",
       "      <td>82.000000</td>\n",
       "      <td>85.000000</td>\n",
       "      <td>7.000000</td>\n",
       "      <td>4.000000</td>\n",
       "      <td>3.000000e+00</td>\n",
       "      <td>2.000000</td>\n",
       "      <td>212.000000</td>\n",
       "      <td>196.000000</td>\n",
       "      <td>1.377000e+03</td>\n",
       "      <td>5.000000e+01</td>\n",
       "    </tr>\n",
       "    <tr>\n",
       "      <th>75%</th>\n",
       "      <td>280.000000</td>\n",
       "      <td>251.000000</td>\n",
       "      <td>10.000000</td>\n",
       "      <td>6.000000</td>\n",
       "      <td>5.000000e+00</td>\n",
       "      <td>4.000000</td>\n",
       "      <td>391.000000</td>\n",
       "      <td>362.000000</td>\n",
       "      <td>5.700000e+03</td>\n",
       "      <td>1.070000e+02</td>\n",
       "    </tr>\n",
       "    <tr>\n",
       "      <th>max</th>\n",
       "      <td>367.000000</td>\n",
       "      <td>863.000000</td>\n",
       "      <td>18.000000</td>\n",
       "      <td>265.000000</td>\n",
       "      <td>6.771314e+06</td>\n",
       "      <td>1314.000000</td>\n",
       "      <td>544060.000000</td>\n",
       "      <td>884250.000000</td>\n",
       "      <td>8.400000e+07</td>\n",
       "      <td>2.341400e+06</td>\n",
       "    </tr>\n",
       "  </tbody>\n",
       "</table>\n",
       "</div>"
      ],
      "text/plain": [
       "            sourceId     locationId         typeId         rooms  \\\n",
       "count  105040.000000  105033.000000  105040.000000  10725.000000   \n",
       "mean      136.424629     161.220520       6.102538      4.699860   \n",
       "std       129.934344     169.511228       3.960919      3.704399   \n",
       "min         1.000000       1.000000       1.000000      1.000000   \n",
       "25%        14.000000      30.000000       1.000000      3.000000   \n",
       "50%        82.000000      85.000000       7.000000      4.000000   \n",
       "75%       280.000000     251.000000      10.000000      6.000000   \n",
       "max       367.000000     863.000000      18.000000    265.000000   \n",
       "\n",
       "           bedrooms     bathrooms      totalArea     livingArea      plotArea  \\\n",
       "count  8.882600e+04  86344.000000   71768.000000   39116.000000  5.600900e+04   \n",
       "mean   8.017582e+01      3.071933     351.547305     350.969450  2.611961e+04   \n",
       "std    2.271971e+04      7.286681    2891.706262    5455.160421  5.039973e+05   \n",
       "min    1.000000e+00      1.000000       8.000000       1.000000  6.000000e+00   \n",
       "25%    3.000000e+00      2.000000     120.000000     110.000000  6.800000e+02   \n",
       "50%    3.000000e+00      2.000000     212.000000     196.000000  1.377000e+03   \n",
       "75%    5.000000e+00      4.000000     391.000000     362.000000  5.700000e+03   \n",
       "max    6.771314e+06   1314.000000  544060.000000  884250.000000  8.400000e+07   \n",
       "\n",
       "        terraceArea  \n",
       "count  2.162700e+04  \n",
       "mean   2.126085e+02  \n",
       "std    1.605198e+04  \n",
       "min    1.000000e+00  \n",
       "25%    2.000000e+01  \n",
       "50%    5.000000e+01  \n",
       "75%    1.070000e+02  \n",
       "max    2.341400e+06  "
      ]
     },
     "execution_count": 11,
     "metadata": {},
     "output_type": "execute_result"
    }
   ],
   "source": [
    "File1_concat_remove_columns.describe()"
   ]
  },
  {
   "cell_type": "code",
   "execution_count": 12,
   "metadata": {},
   "outputs": [
    {
     "name": "stdout",
     "output_type": "stream",
     "text": [
      "id              object\n",
      "sourceId       float64\n",
      "locationId     float64\n",
      "typeId         float64\n",
      "price           object\n",
      "rooms          float64\n",
      "bedrooms       float64\n",
      "bathrooms      float64\n",
      "totalArea      float64\n",
      "livingArea     float64\n",
      "plotArea       float64\n",
      "terraceArea    float64\n",
      "dtype: object\n"
     ]
    }
   ],
   "source": [
    "print(File1_concat_remove_columns.dtypes)"
   ]
  },
  {
   "cell_type": "code",
   "execution_count": 13,
   "metadata": {},
   "outputs": [
    {
     "name": "stdout",
     "output_type": "stream",
     "text": [
      "Columns with unique values:  ['id']\n"
     ]
    }
   ],
   "source": [
    "# checking the columns which contain unique values (no duplicates). then we can start based on that\n",
    "\n",
    "total_rows = len(File1_concat_remove_columns)\n",
    "\n",
    "unique_columns = [i for i in File1_concat_remove_columns.columns if File1_concat_remove_columns[i].nunique() == total_rows]\n",
    "\n",
    "print(\"Columns with unique values: \", unique_columns)"
   ]
  },
  {
   "cell_type": "code",
   "execution_count": 14,
   "metadata": {},
   "outputs": [
    {
     "name": "stdout",
     "output_type": "stream",
     "text": [
      "Rows with Non-Numeric Values:\n",
      "                                                      id  sourceId  \\\n",
      "64067  Sonderwünsche können je nach Bautenstand berüc...       NaN   \n",
      "80139                 Der Energieausweis ist beantragt.\"       NaN   \n",
      "\n",
      "       locationId   typeId                                              price  \\\n",
      "64067     54.9311  8.32400  745240,745241,745242,745243,745244,745245,7452...   \n",
      "80139     54.9029  8.30846  1019564,1019565,1019566,1019567,1019568,101956...   \n",
      "\n",
      "       rooms  bedrooms  bathrooms  totalArea  livingArea  plotArea  \\\n",
      "64067    NaN       NaN        NaN        NaN         NaN       NaN   \n",
      "80139    NaN       NaN        NaN        NaN         NaN       NaN   \n",
      "\n",
      "       terraceArea  id_numeric  \n",
      "64067          NaN         NaN  \n",
      "80139          NaN         NaN  \n"
     ]
    }
   ],
   "source": [
    "# assuming values of id column are numeric and checking whether if there is non-numeric values\n",
    "# Convert to numeric, set errors='coerce' to turn non-numeric values into NaN\n",
    "File1_concat_remove_columns['id_numeric'] = pd.to_numeric(File1_concat_remove_columns['id'], errors='coerce')\n",
    "\n",
    "# Find rows where 'id_numeric' is NaN (i.e., where 'id' contains non-numeric values)\n",
    "non_numeric_values = File1_concat_remove_columns[File1_concat_remove_columns['id_numeric'].isna()]\n",
    "\n",
    "print(\"Rows with Non-Numeric Values:\")\n",
    "print(non_numeric_values)"
   ]
  },
  {
   "cell_type": "code",
   "execution_count": 15,
   "metadata": {},
   "outputs": [],
   "source": [
    "# in above lines, source id is null. every id should have a source id. So can remove those rows\n",
    "\n",
    "\n",
    "# Remove rows where 'id_numeric' is NaN\n",
    "concat_remove_columns_rows = File1_concat_remove_columns.dropna(subset=['id_numeric'])\n",
    "\n",
    "# Drop the 'id_numeric' column\n",
    "File2_concat_remove_columns_rows = concat_remove_columns_rows.drop(columns=['id_numeric'])\n",
    "\n",
    "File2_concat_remove_columns_rows.to_excel('File2_concat_remove_columns_rows.xlsx', index=False)"
   ]
  },
  {
   "cell_type": "code",
   "execution_count": 16,
   "metadata": {},
   "outputs": [],
   "source": [
    "# remove rows that price values are empty\n",
    "\n",
    "File3_concat_remove_columns_rows_price = File2_concat_remove_columns_rows.dropna(subset=['price'])\n",
    "\n",
    "File3_concat_remove_columns_rows_price.to_excel('File3_concat_remove_columns_rows_price.xlsx', index=False)"
   ]
  },
  {
   "cell_type": "code",
   "execution_count": 17,
   "metadata": {},
   "outputs": [],
   "source": [
    "# Analysing houses and apartments so creating a new file only with houses and apartments\n",
    "\n",
    "house_apartment_types = [1,2,3,4,5,6,7,9,10,12]\n",
    "\n",
    "File4_houses_apartments = File3_concat_remove_columns_rows_price[File3_concat_remove_columns_rows_price['typeId'].isin(house_apartment_types)]\n",
    "\n",
    "File4_houses_apartments.to_excel('File4_houses_apartments.xlsx', index=False)\n"
   ]
  },
  {
   "cell_type": "code",
   "execution_count": 18,
   "metadata": {},
   "outputs": [],
   "source": [
    "# remove columns - rooms, living area, plot area, terrace area\n",
    "\n",
    "columns_to_remove2 = ['rooms', 'livingArea', 'plotArea', 'terraceArea']\n",
    "\n",
    "File5_houses_apartmens_remove_columns = File4_houses_apartments.drop(columns=columns_to_remove2)\n",
    "\n",
    "File5_houses_apartmens_remove_columns.to_excel('File5_houses_apartmens_remove_columns.xlsx', index=False)"
   ]
  },
  {
   "cell_type": "code",
   "execution_count": 19,
   "metadata": {},
   "outputs": [
    {
     "data": {
      "text/html": [
       "<div>\n",
       "<style scoped>\n",
       "    .dataframe tbody tr th:only-of-type {\n",
       "        vertical-align: middle;\n",
       "    }\n",
       "\n",
       "    .dataframe tbody tr th {\n",
       "        vertical-align: top;\n",
       "    }\n",
       "\n",
       "    .dataframe thead th {\n",
       "        text-align: right;\n",
       "    }\n",
       "</style>\n",
       "<table border=\"1\" class=\"dataframe\">\n",
       "  <thead>\n",
       "    <tr style=\"text-align: right;\">\n",
       "      <th></th>\n",
       "      <th>sourceId</th>\n",
       "      <th>locationId</th>\n",
       "      <th>typeId</th>\n",
       "      <th>bedrooms</th>\n",
       "      <th>bathrooms</th>\n",
       "      <th>totalArea</th>\n",
       "    </tr>\n",
       "  </thead>\n",
       "  <tbody>\n",
       "    <tr>\n",
       "      <th>count</th>\n",
       "      <td>87704.000000</td>\n",
       "      <td>87696.000000</td>\n",
       "      <td>87704.000000</td>\n",
       "      <td>80820.000000</td>\n",
       "      <td>78390.000000</td>\n",
       "      <td>64347.000000</td>\n",
       "    </tr>\n",
       "    <tr>\n",
       "      <th>mean</th>\n",
       "      <td>136.302415</td>\n",
       "      <td>164.873358</td>\n",
       "      <td>5.612606</td>\n",
       "      <td>3.726491</td>\n",
       "      <td>2.890573</td>\n",
       "      <td>314.976021</td>\n",
       "    </tr>\n",
       "    <tr>\n",
       "      <th>std</th>\n",
       "      <td>130.445111</td>\n",
       "      <td>173.083481</td>\n",
       "      <td>3.753915</td>\n",
       "      <td>2.580766</td>\n",
       "      <td>2.375307</td>\n",
       "      <td>1640.123146</td>\n",
       "    </tr>\n",
       "    <tr>\n",
       "      <th>min</th>\n",
       "      <td>1.000000</td>\n",
       "      <td>1.000000</td>\n",
       "      <td>1.000000</td>\n",
       "      <td>1.000000</td>\n",
       "      <td>1.000000</td>\n",
       "      <td>20.000000</td>\n",
       "    </tr>\n",
       "    <tr>\n",
       "      <th>25%</th>\n",
       "      <td>14.000000</td>\n",
       "      <td>30.000000</td>\n",
       "      <td>1.000000</td>\n",
       "      <td>3.000000</td>\n",
       "      <td>2.000000</td>\n",
       "      <td>120.000000</td>\n",
       "    </tr>\n",
       "    <tr>\n",
       "      <th>50%</th>\n",
       "      <td>82.000000</td>\n",
       "      <td>85.000000</td>\n",
       "      <td>5.000000</td>\n",
       "      <td>3.000000</td>\n",
       "      <td>2.000000</td>\n",
       "      <td>205.000000</td>\n",
       "    </tr>\n",
       "    <tr>\n",
       "      <th>75%</th>\n",
       "      <td>282.000000</td>\n",
       "      <td>279.000000</td>\n",
       "      <td>10.000000</td>\n",
       "      <td>4.000000</td>\n",
       "      <td>4.000000</td>\n",
       "      <td>375.000000</td>\n",
       "    </tr>\n",
       "    <tr>\n",
       "      <th>max</th>\n",
       "      <td>367.000000</td>\n",
       "      <td>863.000000</td>\n",
       "      <td>12.000000</td>\n",
       "      <td>400.000000</td>\n",
       "      <td>400.000000</td>\n",
       "      <td>340900.000000</td>\n",
       "    </tr>\n",
       "  </tbody>\n",
       "</table>\n",
       "</div>"
      ],
      "text/plain": [
       "           sourceId    locationId        typeId      bedrooms     bathrooms  \\\n",
       "count  87704.000000  87696.000000  87704.000000  80820.000000  78390.000000   \n",
       "mean     136.302415    164.873358      5.612606      3.726491      2.890573   \n",
       "std      130.445111    173.083481      3.753915      2.580766      2.375307   \n",
       "min        1.000000      1.000000      1.000000      1.000000      1.000000   \n",
       "25%       14.000000     30.000000      1.000000      3.000000      2.000000   \n",
       "50%       82.000000     85.000000      5.000000      3.000000      2.000000   \n",
       "75%      282.000000    279.000000     10.000000      4.000000      4.000000   \n",
       "max      367.000000    863.000000     12.000000    400.000000    400.000000   \n",
       "\n",
       "           totalArea  \n",
       "count   64347.000000  \n",
       "mean      314.976021  \n",
       "std      1640.123146  \n",
       "min        20.000000  \n",
       "25%       120.000000  \n",
       "50%       205.000000  \n",
       "75%       375.000000  \n",
       "max    340900.000000  "
      ]
     },
     "execution_count": 19,
     "metadata": {},
     "output_type": "execute_result"
    }
   ],
   "source": [
    "File5_houses_apartmens_remove_columns.describe()"
   ]
  },
  {
   "cell_type": "code",
   "execution_count": 20,
   "metadata": {},
   "outputs": [],
   "source": [
    "File5_houses_apartmens_remove_columns['bathrooms'] = File5_houses_apartmens_remove_columns['bathrooms'].fillna(0)\n",
    "File5_houses_apartmens_remove_columns['bedrooms'] = File5_houses_apartmens_remove_columns['bedrooms'].fillna(0)\n",
    "File5_houses_apartmens_remove_columns['totalArea'] = File5_houses_apartmens_remove_columns['totalArea'].fillna(0)"
   ]
  },
  {
   "cell_type": "code",
   "execution_count": 21,
   "metadata": {},
   "outputs": [
    {
     "name": "stdout",
     "output_type": "stream",
     "text": [
      "Zero bedrooms 6884\n",
      "Zero bathrooms 9314\n",
      "Zero total areas 23357\n"
     ]
    }
   ],
   "source": [
    "print(\"Zero bedrooms\",File5_houses_apartmens_remove_columns['bedrooms'].value_counts()[0])\n",
    "print(\"Zero bathrooms\",File5_houses_apartmens_remove_columns['bathrooms'].value_counts()[0])\n",
    "print(\"Zero total areas\", File5_houses_apartmens_remove_columns['totalArea'].value_counts()[0])"
   ]
  },
  {
   "cell_type": "code",
   "execution_count": 22,
   "metadata": {},
   "outputs": [],
   "source": [
    "File6_houses_apartments_remove_zeros = File5_houses_apartmens_remove_columns[~((File5_houses_apartmens_remove_columns['bedrooms']==0) | \n",
    "                        (File5_houses_apartmens_remove_columns['bathrooms']==0) | (File5_houses_apartmens_remove_columns['totalArea']==0))]\n",
    "\n",
    "File6_houses_apartments_remove_zeros.to_excel('File6_houses_apartments_remove_zeros.xlsx',index=False)"
   ]
  },
  {
   "cell_type": "code",
   "execution_count": 23,
   "metadata": {},
   "outputs": [
    {
     "name": "stdout",
     "output_type": "stream",
     "text": [
      "3.746216974271962\n"
     ]
    }
   ],
   "source": [
    "bedrooms_avarage = File6_houses_apartments_remove_zeros['bedrooms'].mean()\n",
    "print(bedrooms_avarage)"
   ]
  },
  {
   "cell_type": "code",
   "execution_count": 24,
   "metadata": {},
   "outputs": [],
   "source": [
    "# Set the threshold for the number of bathrooms\n",
    "threshold2 = 10\n",
    "\n",
    "# Filter out rows where number of bathrooms is greater than the threshold\n",
    "File7_houses_apartments_less10_bedrooms_bathrooms= File6_houses_apartments_remove_zeros[File6_houses_apartments_remove_zeros['bathrooms'] <= threshold2]\n",
    "\n",
    "# File7_houses_apartments_less10_bedrooms_bathrooms.to_excel('File7_houses_apartments_less10_bedrooms_bathrooms.xlsx', index=False)"
   ]
  },
  {
   "cell_type": "code",
   "execution_count": 25,
   "metadata": {},
   "outputs": [],
   "source": [
    "# Set the threshold for the number of bedrooms\n",
    "threshold1 = 10\n",
    "\n",
    "# Filter out rows where number of bedrooms is greater than the threshold\n",
    "File7_houses_apartments_less10_bedrooms_bathrooms = File7_houses_apartments_less10_bedrooms_bathrooms[File7_houses_apartments_less10_bedrooms_bathrooms['bedrooms'] <= threshold1]\n",
    "\n",
    "File7_houses_apartments_less10_bedrooms_bathrooms.to_excel('File7_houses_apartments_less10_bedrooms_bathrooms.xlsx', index=False)"
   ]
  },
  {
   "cell_type": "code",
   "execution_count": 26,
   "metadata": {},
   "outputs": [
    {
     "name": "stdout",
     "output_type": "stream",
     "text": [
      "94671    340900.0\n",
      "78005    150000.0\n",
      "159       76891.0\n",
      "58195     55000.0\n",
      "75872     47900.0\n",
      "51319     22000.0\n",
      "44506     16815.0\n",
      "47582     15800.0\n",
      "82054     13500.0\n",
      "5904       9000.0\n",
      "24154      9000.0\n",
      "76034      7103.0\n",
      "77806      7000.0\n",
      "64114      6911.0\n",
      "31873      6732.0\n",
      "55690      6000.0\n",
      "40819      5852.0\n",
      "38208      5500.0\n",
      "23378      5000.0\n",
      "8384       4950.0\n",
      "Name: totalArea, dtype: float64\n"
     ]
    }
   ],
   "source": [
    "# check the maximum 10 values of total area\n",
    "\n",
    "top_10_values = File7_houses_apartments_less10_bedrooms_bathrooms['totalArea'].nlargest(20)\n",
    "print(top_10_values)"
   ]
  },
  {
   "cell_type": "code",
   "execution_count": 27,
   "metadata": {},
   "outputs": [],
   "source": [
    "# remove areas from total area which is great than 999\n",
    "\n",
    "File8_houses_apartments_remove_totalarea = File7_houses_apartments_less10_bedrooms_bathrooms[File7_houses_apartments_less10_bedrooms_bathrooms['totalArea']<=999]\n",
    "\n",
    "File8_houses_apartments_remove_totalarea.to_excel('File8_houses_apartments_remove_totalarea.xlsx', index=False)"
   ]
  },
  {
   "cell_type": "code",
   "execution_count": 28,
   "metadata": {},
   "outputs": [],
   "source": [
    "# remove locations which are empty\n",
    "\n",
    "File9_houses_apartments_empty_locations = File8_houses_apartments_remove_totalarea.dropna(subset=['locationId'])\n",
    "\n",
    "File9_houses_apartments_empty_locations.to_excel('File9_houses_apartments_empty_locations.xlsx', index=False)"
   ]
  },
  {
   "cell_type": "code",
   "execution_count": 29,
   "metadata": {},
   "outputs": [
    {
     "name": "stdout",
     "output_type": "stream",
     "text": [
      "id             object\n",
      "sourceId      float64\n",
      "locationId    float64\n",
      "typeId        float64\n",
      "price          object\n",
      "bedrooms      float64\n",
      "bathrooms     float64\n",
      "totalArea     float64\n",
      "dtype: object\n"
     ]
    }
   ],
   "source": [
    "print(File9_houses_apartments_empty_locations.dtypes)"
   ]
  },
  {
   "cell_type": "code",
   "execution_count": 30,
   "metadata": {},
   "outputs": [
    {
     "name": "stdout",
     "output_type": "stream",
     "text": [
      "float64\n"
     ]
    }
   ],
   "source": [
    "# convert data type of price to float\n",
    "\n",
    "File9_houses_apartments_empty_locations_copy1 = File9_houses_apartments_empty_locations.copy()\n",
    "\n",
    "File9_houses_apartments_empty_locations_copy1['price'] = pd.to_numeric(File9_houses_apartments_empty_locations_copy1['price'], errors='coerce')\n",
    "\n",
    "print(File9_houses_apartments_empty_locations_copy1['price'].dtype)"
   ]
  },
  {
   "cell_type": "code",
   "execution_count": 31,
   "metadata": {},
   "outputs": [],
   "source": [
    "File9_houses_apartments_empty_locations_copy1.to_excel('File10_houses_apartments_final_version.xlsx', index=False)"
   ]
  },
  {
   "cell_type": "code",
   "execution_count": 32,
   "metadata": {},
   "outputs": [
    {
     "name": "stdout",
     "output_type": "stream",
     "text": [
      "Coefficient (slope): 491243.5783506034\n",
      "Intercept: -605828.3728990592\n"
     ]
    },
    {
     "data": {
      "image/png": "[encoded data removed]",
      "text/plain": [
       "<Figure size 1000x600 with 1 Axes>"
      ]
     },
     "metadata": {},
     "output_type": "display_data"
    }
   ],
   "source": [
    "from sklearn.linear_model import LinearRegression\n",
    "\n",
    "# Reshape the data for the model\n",
    "X = File9_houses_apartments_empty_locations_copy1[['bedrooms']]\n",
    "y = File9_houses_apartments_empty_locations_copy1['price']\n",
    "\n",
    "# Fit the linear regression model\n",
    "model = LinearRegression()\n",
    "model.fit(X, y)\n",
    "\n",
    "# Coefficient and intercept\n",
    "print(f'Coefficient (slope): {model.coef_[0]}')\n",
    "print(f'Intercept: {model.intercept_}')\n",
    "\n",
    "# Visualize the regression line\n",
    "plt.figure(figsize=(10, 6))\n",
    "sns.scatterplot(x=File9_houses_apartments_empty_locations_copy1['bedrooms'], y=File9_houses_apartments_empty_locations_copy1['price'])\n",
    "plt.plot(File9_houses_apartments_empty_locations_copy1['bedrooms'], model.predict(X), color='red', linewidth=2)\n",
    "plt.title('Linear Regression: Price vs. Number of Bedrooms')\n",
    "plt.xlabel('Number of Bedrooms')\n",
    "plt.ylabel('Price')\n",
    "plt.show()\n"
   ]
  },
  {
   "cell_type": "code",
   "execution_count": 33,
   "metadata": {},
   "outputs": [
    {
     "name": "stdout",
     "output_type": "stream",
     "text": [
      "                            OLS Regression Results                            \n",
      "==============================================================================\n",
      "Dep. Variable:                  price   R-squared:                       0.243\n",
      "Model:                            OLS   Adj. R-squared:                  0.243\n",
      "Method:                 Least Squares   F-statistic:                 1.802e+04\n",
      "Date:                Tue, 10 Sep 2024   Prob (F-statistic):               0.00\n",
      "Time:                        11:18:38   Log-Likelihood:            -8.6684e+05\n",
      "No. Observations:               56089   AIC:                         1.734e+06\n",
      "Df Residuals:                   56087   BIC:                         1.734e+06\n",
      "Df Model:                           1                                         \n",
      "Covariance Type:            nonrobust                                         \n",
      "==============================================================================\n",
      "                 coef    std err          t      P>|t|      [0.025      0.975]\n",
      "------------------------------------------------------------------------------\n",
      "const      -6.058e+05   1.42e+04    -42.618      0.000   -6.34e+05   -5.78e+05\n",
      "bedrooms    4.912e+05   3659.520    134.237      0.000    4.84e+05    4.98e+05\n",
      "==============================================================================\n",
      "Omnibus:                    46457.043   Durbin-Watson:                   0.591\n",
      "Prob(Omnibus):                  0.000   Jarque-Bera (JB):          2089253.253\n",
      "Skew:                           3.722   Prob(JB):                         0.00\n",
      "Kurtosis:                      31.958   Cond. No.                         11.1\n",
      "==============================================================================\n",
      "\n",
      "Notes:\n",
      "[1] Standard Errors assume that the covariance matrix of the errors is correctly specified.\n"
     ]
    }
   ],
   "source": [
    "# OLS Regression Results\n",
    "\n",
    "# Define the independent variable (number of bedrooms) and dependent variable (price)\n",
    "X = File9_houses_apartments_empty_locations_copy1['bedrooms']  # independent variable\n",
    "y = File9_houses_apartments_empty_locations_copy1['price']  # dependent variable\n",
    "\n",
    "# Add a constant to the independent variable (required for OLS)\n",
    "X = sm.add_constant(X)\n",
    "\n",
    "# Perform OLS regression\n",
    "model = sm.OLS(y, X).fit()\n",
    "\n",
    "# Get the OLS regression results\n",
    "print(model.summary())"
   ]
  },
  {
   "cell_type": "code",
   "execution_count": 34,
   "metadata": {},
   "outputs": [
    {
     "name": "stdout",
     "output_type": "stream",
     "text": [
      "                            OLS Regression Results                            \n",
      "==============================================================================\n",
      "Dep. Variable:                  price   R-squared:                       0.531\n",
      "Model:                            OLS   Adj. R-squared:                  0.531\n",
      "Method:                 Least Squares   F-statistic:                 2.117e+04\n",
      "Date:                Tue, 10 Sep 2024   Prob (F-statistic):               0.00\n",
      "Time:                        11:18:38   Log-Likelihood:            -8.5342e+05\n",
      "No. Observations:               56089   AIC:                         1.707e+06\n",
      "Df Residuals:                   56085   BIC:                         1.707e+06\n",
      "Df Model:                           3                                         \n",
      "Covariance Type:            nonrobust                                         \n",
      "==============================================================================\n",
      "                 coef    std err          t      P>|t|      [0.025      0.975]\n",
      "------------------------------------------------------------------------------\n",
      "const       -3.44e+05   1.15e+04    -29.793      0.000   -3.67e+05   -3.21e+05\n",
      "bedrooms   -1.436e+05   4593.310    -31.255      0.000   -1.53e+05   -1.35e+05\n",
      "bathrooms   3.208e+05   5047.060     63.569      0.000    3.11e+05    3.31e+05\n",
      "totalArea   4260.1757     35.701    119.329      0.000    4190.202    4330.150\n",
      "==============================================================================\n",
      "Omnibus:                    52246.316   Durbin-Watson:                   0.754\n",
      "Prob(Omnibus):                  0.000   Jarque-Bera (JB):          4925260.483\n",
      "Skew:                           4.210   Prob(JB):                         0.00\n",
      "Kurtosis:                      48.128   Cond. No.                         932.\n",
      "==============================================================================\n",
      "\n",
      "Notes:\n",
      "[1] Standard Errors assume that the covariance matrix of the errors is correctly specified.\n"
     ]
    }
   ],
   "source": [
    "# Define independent variables and add a constant for the intercept\n",
    "X = File9_houses_apartments_empty_locations_copy1[['bedrooms', 'bathrooms', 'totalArea']]\n",
    "X = sm.add_constant(X)\n",
    "\n",
    "# Define the dependent variable\n",
    "y = File9_houses_apartments_empty_locations_copy1['price']\n",
    "\n",
    "# Fit the model\n",
    "model = sm.OLS(y, X).fit()\n",
    "\n",
    "# Print out the regression results\n",
    "print(model.summary())\n"
   ]
  },
  {
   "cell_type": "code",
   "execution_count": null,
   "metadata": {},
   "outputs": [],
   "source": []
  }
 ],
 "metadata": {
  "kernelspec": {
   "display_name": "Python 3",
   "language": "python",
   "name": "python3"
  },
  "language_info": {
   "codemirror_mode": {
    "name": "ipython",
    "version": 3
   },
   "file_extension": ".py",
   "mimetype": "text/x-python",
   "name": "python",
   "nbconvert_exporter": "python",
   "pygments_lexer": "ipython3",
   "version": "3.11.9"
  }
 },
 "nbformat": 4,
 "nbformat_minor": 2
}
